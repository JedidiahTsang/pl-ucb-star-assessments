{
 "cells": [
  {
   "cell_type": "code",
   "execution_count": 12,
   "id": "bf7e870a",
   "metadata": {},
   "outputs": [],
   "source": [
    "import pandas as pd\n",
    "import numpy as np\n",
    "from bs4 import BeautifulSoup"
   ]
  },
  {
   "cell_type": "code",
   "execution_count": 23,
   "id": "f411af8a",
   "metadata": {},
   "outputs": [],
   "source": [
    "df = pd.DataFrame({\"Column1\": [\"Row1\", \"Row2\", \"Row3\", \"Row4\", \"Row5\"],\n",
    "                   \"Column2\": [\"Row1\", \"Row2\", \"Row3\", \"Row4\", \"Row5\"],\n",
    "                   \"Column3\": [\"Row1\", \"Row2\", \"Row3\", \"Row4\", \"Row5\"],\n",
    "                   \"Column4\": [\"Row1\", \"Row2\", \"Row3\", \"Row4\", \"Row5\"],\n",
    "                   \"Column5\": [\"Row1\", \"Row2\", \"Row3\", \"Row4\", \"Row5\"]})"
   ]
  },
  {
   "cell_type": "markdown",
   "id": "5cc0b44e",
   "metadata": {},
   "source": [
    "## dataframe operation => def operation() at server.py"
   ]
  },
  {
   "cell_type": "code",
   "execution_count": 24,
   "id": "5b293007",
   "metadata": {},
   "outputs": [],
   "source": [
    "cols = df.columns.to_list()\n",
    "new_cols = cols[1:] + [cols[0]]\n",
    "df2 = df[new_cols]"
   ]
  },
  {
   "cell_type": "code",
   "execution_count": 25,
   "id": "42fae0d8",
   "metadata": {},
   "outputs": [
    {
     "name": "stdout",
     "output_type": "stream",
     "text": [
      "<table border=\"1\" class=\"dataframe\">\n",
      "  <thead>\n",
      "    <tr style=\"text-align: right;\">\n",
      "      <th></th>\n",
      "      <th>Column2</th>\n",
      "      <th>Column3</th>\n",
      "      <th>Column4</th>\n",
      "      <th>Column5</th>\n",
      "      <th>Column1</th>\n",
      "    </tr>\n",
      "  </thead>\n",
      "  <tbody>\n",
      "    <tr>\n",
      "      <th>0</th>\n",
      "      <td>Row1</td>\n",
      "      <td>Row1</td>\n",
      "      <td>Row1</td>\n",
      "      <td>Row1</td>\n",
      "      <td>Row1</td>\n",
      "    </tr>\n",
      "    <tr>\n",
      "      <th>1</th>\n",
      "      <td>Row2</td>\n",
      "      <td>Row2</td>\n",
      "      <td>Row2</td>\n",
      "      <td>Row2</td>\n",
      "      <td>Row2</td>\n",
      "    </tr>\n",
      "    <tr>\n",
      "      <th>2</th>\n",
      "      <td>Row3</td>\n",
      "      <td>Row3</td>\n",
      "      <td>Row3</td>\n",
      "      <td>Row3</td>\n",
      "      <td>Row3</td>\n",
      "    </tr>\n",
      "    <tr>\n",
      "      <th>3</th>\n",
      "      <td>Row4</td>\n",
      "      <td>Row4</td>\n",
      "      <td>Row4</td>\n",
      "      <td>Row4</td>\n",
      "      <td>Row4</td>\n",
      "    </tr>\n",
      "    <tr>\n",
      "      <th>4</th>\n",
      "      <td>Row5</td>\n",
      "      <td>Row5</td>\n",
      "      <td>Row5</td>\n",
      "      <td>Row5</td>\n",
      "      <td>Row5</td>\n",
      "    </tr>\n",
      "  </tbody>\n",
      "</table>\n"
     ]
    }
   ],
   "source": [
    "print(df2.to_html())"
   ]
  },
  {
   "cell_type": "code",
   "execution_count": null,
   "id": "85741755",
   "metadata": {},
   "outputs": [],
   "source": [
    "soup = BeautifulSoup(df2.to_html())"
   ]
  },
  {
   "cell_type": "markdown",
   "id": "131308ff",
   "metadata": {},
   "source": [
    "## Col1 and Col2 swap (this string is taken from PL data['raw_submitted_answers'])"
   ]
  },
  {
   "cell_type": "code",
   "execution_count": 9,
   "id": "f75bab50",
   "metadata": {},
   "outputs": [],
   "source": [
    "string = '''\n",
    "<table border=\"1\" class=\"dataframe\">\\r\\n  <thead>\\r\\n    <tr style=\"text-align: right;\">\\r\\n      <th class=\"ui-draggable ui-draggable-handle ui-droppable\"></th>\\r\\n      <th class=\"ui-draggable ui-draggable-handle ui-droppable\">Column2</th>\\r\\n      <th class=\"ui-draggable ui-draggable-handle ui-droppable\">Column1</th>\\r\\n      <th class=\"ui-draggable ui-draggable-handle ui-droppable ui-droppable-active\">Column4</th>\\r\\n      <th class=\"ui-draggable ui-draggable-handle ui-droppable ui-droppable-active\">Column3</th>\\r\\n      <th class=\"ui-draggable ui-draggable-handle ui-droppable\">Column5</th>\\r\\n    <th class=\"ui-draggable ui-draggable-handle ui-droppable ui-draggable-dragging\" style=\"position: absolute; opacity: 0.5; z-index: 1000; left: 121.953125px; top: 103.5px;\">Column1</th></tr>\\r\\n  </thead>\\r\\n  <tbody>\\r\\n    <tr class=\"ui-draggable ui-draggable-handle ui-droppable ui-droppable-active\">\\r\\n      <th class=\"ui-draggable ui-draggable-handle ui-droppable ui-droppable-active\">0</th>\\r\\n      <td>Row1</td>\\r\\n      <td>Row1</td>\\r\\n      <td>Row1</td>\\r\\n      <td>Row1</td>\\r\\n      <td>Row1</td>\\r\\n    </tr>\\r\\n    <tr class=\"ui-draggable ui-draggable-handle ui-droppable ui-droppable-active\">\\r\\n      <th class=\"ui-draggable ui-draggable-handle ui-droppable ui-droppable-active\">1</th>\\r\\n      <td>Row2</td>\\r\\n      <td>Row2</td>\\r\\n      <td>Row2</td>\\r\\n      <td>Row2</td>\\r\\n      <td>Row2</td>\\r\\n    </tr>\\r\\n    <tr class=\"ui-draggable ui-draggable-handle ui-droppable ui-droppable-active\">\\r\\n      <th class=\"ui-draggable ui-draggable-handle ui-droppable ui-droppable-active\">2</th>\\r\\n      <td>Row3</td>\\r\\n      <td>Row3</td>\\r\\n      <td>Row3</td>\\r\\n      <td>Row3</td>\\r\\n      <td>Row3</td>\\r\\n    </tr>\\r\\n    <tr class=\"ui-draggable ui-draggable-handle ui-droppable ui-droppable-active\">\\r\\n      <th class=\"ui-draggable ui-draggable-handle ui-droppable ui-droppable-active\">3</th>\\r\\n      <td>Row4</td>\\r\\n      <td>Row4</td>\\r\\n      <td>Row4</td>\\r\\n      <td>Row4</td>\\r\\n      <td>Row4</td>\\r\\n    </tr>\\r\\n    <tr class=\"ui-draggable ui-draggable-handle ui-droppable ui-droppable-active\">\\r\\n      <th class=\"ui-draggable ui-draggable-handle ui-droppable ui-droppable-active\">4</th>\\r\\n      <td>Row5</td>\\r\\n      <td>Row5</td>\\r\\n      <td>Row5</td>\\r\\n      <td>Row5</td>\\r\\n      <td>Row5</td>\\r\\n    </tr>\\r\\n  </tbody>\\r\\n</table>\n",
    "'''"
   ]
  },
  {
   "cell_type": "code",
   "execution_count": 26,
   "id": "7f3866d0",
   "metadata": {},
   "outputs": [],
   "source": [
    "#The structure of html is a little bit different from the origin(sequence of <th>, one more tag at the end)"
   ]
  },
  {
   "cell_type": "code",
   "execution_count": 27,
   "id": "cf8c621c",
   "metadata": {},
   "outputs": [
    {
     "name": "stdout",
     "output_type": "stream",
     "text": [
      "\n",
      "<table border=\"1\" class=\"dataframe\">\r\n",
      "  <thead>\r\n",
      "    <tr style=\"text-align: right;\">\r\n",
      "      <th class=\"ui-draggable ui-draggable-handle ui-droppable\"></th>\r\n",
      "      <th class=\"ui-draggable ui-draggable-handle ui-droppable\">Column2</th>\r\n",
      "      <th class=\"ui-draggable ui-draggable-handle ui-droppable\">Column1</th>\r\n",
      "      <th class=\"ui-draggable ui-draggable-handle ui-droppable ui-droppable-active\">Column3</th>\r\n",
      "      <th class=\"ui-draggable ui-draggable-handle ui-droppable ui-droppable-active\">Column4</th>\r\n",
      "      <th class=\"ui-draggable ui-draggable-handle ui-droppable ui-droppable-active\">Column5</th>\r\n",
      "    <th class=\"ui-draggable ui-draggable-handle ui-droppable ui-draggable-dragging\" style=\"position: absolute; opacity: 0.5; z-index: 1000; left: 146.1875px; top: 107.5px;\">Column1</th></tr>\r\n",
      "  </thead>\r\n",
      "  <tbody>\r\n",
      "    <tr class=\"ui-draggable ui-draggable-handle ui-droppable ui-droppable-active\">\r\n",
      "      <th class=\"ui-draggable ui-draggable-handle ui-droppable ui-droppable-active\">0</th>\r\n",
      "      <td>Row1</td>\r\n",
      "      <td>Row1</td>\r\n",
      "      <td>Row1</td>\r\n",
      "      <td>Row1</td>\r\n",
      "      <td>Row1</td>\r\n",
      "    </tr>\r\n",
      "    <tr class=\"ui-draggable ui-draggable-handle ui-droppable ui-droppable-active\">\r\n",
      "      <th class=\"ui-draggable ui-draggable-handle ui-droppable ui-droppable-active\">1</th>\r\n",
      "      <td>Row2</td>\r\n",
      "      <td>Row2</td>\r\n",
      "      <td>Row2</td>\r\n",
      "      <td>Row2</td>\r\n",
      "      <td>Row2</td>\r\n",
      "    </tr>\r\n",
      "    <tr class=\"ui-draggable ui-draggable-handle ui-droppable ui-droppable-active\">\r\n",
      "      <th class=\"ui-draggable ui-draggable-handle ui-droppable ui-droppable-active\">2</th>\r\n",
      "      <td>Row3</td>\r\n",
      "      <td>Row3</td>\r\n",
      "      <td>Row3</td>\r\n",
      "      <td>Row3</td>\r\n",
      "      <td>Row3</td>\r\n",
      "    </tr>\r\n",
      "    <tr class=\"ui-draggable ui-draggable-handle ui-droppable ui-droppable-active\">\r\n",
      "      <th class=\"ui-draggable ui-draggable-handle ui-droppable ui-droppable-active\">3</th>\r\n",
      "      <td>Row4</td>\r\n",
      "      <td>Row4</td>\r\n",
      "      <td>Row4</td>\r\n",
      "      <td>Row4</td>\r\n",
      "      <td>Row4</td>\r\n",
      "    </tr>\r\n",
      "    <tr class=\"ui-draggable ui-draggable-handle ui-droppable ui-droppable-active\">\r\n",
      "      <th class=\"ui-draggable ui-draggable-handle ui-droppable ui-droppable-active\">4</th>\r\n",
      "      <td>Row5</td>\r\n",
      "      <td>Row5</td>\r\n",
      "      <td>Row5</td>\r\n",
      "      <td>Row5</td>\r\n",
      "      <td>Row5</td>\r\n",
      "    </tr>\r\n",
      "  </tbody>\r\n",
      "</table>\n"
     ]
    }
   ],
   "source": [
    "print(string)"
   ]
  },
  {
   "cell_type": "code",
   "execution_count": 15,
   "id": "5fd322ef",
   "metadata": {},
   "outputs": [],
   "source": [
    "soup = BeautifulSoup(string)"
   ]
  },
  {
   "cell_type": "code",
   "execution_count": 31,
   "id": "ee0a1374",
   "metadata": {},
   "outputs": [],
   "source": [
    "#find_all method finds all children nodes(tags) with specified element name(th in this case),\n",
    "#and return the list of tags"
   ]
  },
  {
   "cell_type": "code",
   "execution_count": 32,
   "id": "7434da6e",
   "metadata": {},
   "outputs": [
    {
     "data": {
      "text/plain": [
       "'Column2'"
      ]
     },
     "execution_count": 32,
     "metadata": {},
     "output_type": "execute_result"
    }
   ],
   "source": [
    "soup.find('thead').find_all('th')[1].text # .text will return object between tags if there is one(None if nothing)"
   ]
  },
  {
   "cell_type": "code",
   "execution_count": 33,
   "id": "9405be89",
   "metadata": {},
   "outputs": [
    {
     "data": {
      "text/plain": [
       "'Column1'"
      ]
     },
     "execution_count": 33,
     "metadata": {},
     "output_type": "execute_result"
    }
   ],
   "source": [
    "soup.find('thead').find_all('th')[2].text"
   ]
  }
 ],
 "metadata": {
  "kernelspec": {
   "display_name": "Python 3 (ipykernel)",
   "language": "python",
   "name": "python3"
  },
  "language_info": {
   "codemirror_mode": {
    "name": "ipython",
    "version": 3
   },
   "file_extension": ".py",
   "mimetype": "text/x-python",
   "name": "python",
   "nbconvert_exporter": "python",
   "pygments_lexer": "ipython3",
   "version": "3.11.5"
  }
 },
 "nbformat": 4,
 "nbformat_minor": 5
}
